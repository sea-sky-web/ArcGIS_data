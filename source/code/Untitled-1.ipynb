{
 "cells": [
  {
   "cell_type": "code",
   "execution_count": 31,
   "metadata": {},
   "outputs": [
    {
     "data": {
      "text/plain": [
       "array(['浦东新区牌楼村', '浦东新区三彩路52弄', '浦东新区临江村西新队罗汉松', ..., '崇明区富圩村', '崇明区花仓村',\n",
       "       '崇明区向民路230弄'], dtype='<U20')"
      ]
     },
     "execution_count": 31,
     "metadata": {},
     "output_type": "execute_result"
    }
   ],
   "source": [
    "import numpy as np\n",
    "import pandas as pd\n",
    "\n",
    "filedata = np.load(r'D:\\OneDrive - 东南大学\\桌面\\GIS操作课程论文\\SH-COVID19-main\\source\\data\\居住地信息_processed\\0330.npy')\n",
    "filedata\n",
    "# data = filedata.reshape(1,-1)\n",
    "# for i in range(50):\n",
    "#     for j in range(10):\n",
    "#         display(filedata[i])\n",
    "# np.savetxt(r'D:\\OneDrive - 东南大学\\data.txt',filedata)\n",
    "# file = pd.DataFrame(filedata)\n",
    "# data = pd.(r'D:\\OneDrive - 东南大学\\桌面\\data.xlsx')\n",
    "# file.to_excel(data)                             \n",
    "# 格式不支持\n",
    "# np.savetxt(r'D:\\OneDrive - 东南大学\\桌面\\GIS操作课程论文\\SH-COVID19-main\\source\\data\\居住地信息_processed\\datachack.txt',filedata,float_format='%.6f')"
   ]
  },
  {
   "cell_type": "code",
   "execution_count": null,
   "metadata": {},
   "outputs": [],
   "source": []
  }
 ],
 "metadata": {
  "kernelspec": {
   "display_name": "base",
   "language": "python",
   "name": "python3"
  },
  "language_info": {
   "codemirror_mode": {
    "name": "ipython",
    "version": 3
   },
   "file_extension": ".py",
   "mimetype": "text/x-python",
   "name": "python",
   "nbconvert_exporter": "python",
   "pygments_lexer": "ipython3",
   "version": "3.9.12"
  },
  "orig_nbformat": 4,
  "vscode": {
   "interpreter": {
    "hash": "5179d32cf6ec497baf3f8a3ef987cc77c5d2dc691fdde20a56316522f61a7323"
   }
  }
 },
 "nbformat": 4,
 "nbformat_minor": 2
}
